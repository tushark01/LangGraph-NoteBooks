{
  "nbformat": 4,
  "nbformat_minor": 0,
  "metadata": {
    "colab": {
      "provenance": []
    },
    "kernelspec": {
      "name": "python3",
      "display_name": "Python 3"
    },
    "language_info": {
      "name": "python"
    }
  },
  "cells": [
    {
      "cell_type": "markdown",
      "source": [
        "# What is Langgraph?\n",
        "\n",
        "LangGraph is a powerful tool for building stateful, multi-actor applications with Large Language Models (LLMs). It extends the LangChain library, allowing you to coordinate multiple chains (or actors) across multiple steps of computation in a cyclic manner.\n",
        "\n",
        "Key Features:\n",
        "* State Management\n",
        "* Flexible Routing\n",
        "* Persistence\n",
        "* Visualization"
      ],
      "metadata": {
        "id": "dccFqcdCVcfS"
      }
    },
    {
      "cell_type": "markdown",
      "source": [
        "# Tutorial Overview: Building a Comprehensive Text Analysis Pipeline with LangGraph\n",
        "\n",
        "In this tutorial, we'll harness the capabilities of LangGraph to design a multi-stage text analysis pipeline. Our practical example will guide you through processing input text via three pivotal phases:\n",
        "\n",
        "Text Classification: Categorize input text into predefined categories, such as News, Blog, Research, or Other.\n",
        "\n",
        "Entity Extraction: Identify and extract key entities, including persons, organizations, and locations, from the text.\n",
        "\n",
        "Text Summarization: Generate a concise summary of the input text.\n",
        "\n",
        "This pipeline demonstrates LangGraph's potential in creating modular, scalable workflows for natural language processing tasks. By completing this tutorial, you'll gain hands-on experience in constructing a graph-based application that can be easily tailored or expanded to meet diverse text analysis requirements."
      ],
      "metadata": {
        "id": "TtYCS4NWV0Ar"
      }
    },
    {
      "cell_type": "markdown",
      "source": [
        "# Install and Import Required Libraries"
      ],
      "metadata": {
        "id": "l-svfcjWV__O"
      }
    },
    {
      "cell_type": "code",
      "source": [
        "!pip install langgraph langchain_openai langchain_core"
      ],
      "metadata": {
        "id": "8OER8726NrCs"
      },
      "execution_count": null,
      "outputs": []
    },
    {
      "cell_type": "code",
      "source": [
        "!pip install python-dotenv"
      ],
      "metadata": {
        "colab": {
          "base_uri": "https://localhost:8080/"
        },
        "id": "HWoj2YOxNx0N",
        "outputId": "2300a9cb-8893-49b1-914c-89b35e795a71"
      },
      "execution_count": 6,
      "outputs": [
        {
          "output_type": "stream",
          "name": "stdout",
          "text": [
            "Collecting python-dotenv\n",
            "  Downloading python_dotenv-1.0.1-py3-none-any.whl.metadata (23 kB)\n",
            "Downloading python_dotenv-1.0.1-py3-none-any.whl (19 kB)\n",
            "Installing collected packages: python-dotenv\n",
            "Successfully installed python-dotenv-1.0.1\n"
          ]
        }
      ]
    },
    {
      "cell_type": "code",
      "execution_count": 7,
      "metadata": {
        "id": "umbxncX5NdKh"
      },
      "outputs": [],
      "source": [
        "import os\n",
        "from typing import TypedDict, List\n",
        "from langgraph.graph import StateGraph, END\n",
        "from langchain.prompts import PromptTemplate\n",
        "from langchain_openai import ChatOpenAI\n",
        "from langchain.schema import HumanMessage\n",
        "from langchain_core.runnables.graph import MermaidDrawMethod\n",
        "from IPython.display import display, Image?\n",
        "\n",
        "from dotenv import load_dotenv"
      ]
    },
    {
      "cell_type": "code",
      "source": [
        "  !pip install python-dotenv colab"
      ],
      "metadata": {
        "id": "8B7BjNxMOYpf"
      },
      "execution_count": null,
      "outputs": []
    },
    {
      "cell_type": "markdown",
      "source": [
        "# Set Up API Key"
      ],
      "metadata": {
        "id": "cHXTA-OXWFjJ"
      }
    },
    {
      "cell_type": "code",
      "source": [
        "import os\n",
        "from google.colab import userdata\n",
        "\n",
        "\n",
        "os.environ[\"OPENAI_API_KEY\"] = userdata.get('OPENAI_API_KEY')\n",
        "\n",
        "\n",
        "openai_api_key = userdata.get('OPENAI_API_KEY')\n",
        "os.environ[\"OPENAI_API_KEY\"] = openai_api_key\n",
        "\n",
        "\n",
        "print(\"API Key loaded successfully!\")"
      ],
      "metadata": {
        "colab": {
          "base_uri": "https://localhost:8080/"
        },
        "id": "-2B_cx22N2V0",
        "outputId": "b2436872-e0e4-4dc1-c33b-5e32f7a5bf16"
      },
      "execution_count": 11,
      "outputs": [
        {
          "output_type": "stream",
          "name": "stdout",
          "text": [
            "API Key loaded successfully!\n"
          ]
        }
      ]
    },
    {
      "cell_type": "markdown",
      "source": [
        "# Building the Text Processing Pipeline\n",
        "\n",
        "# Step 1: Defining the State Class and Initializing the LLM\n",
        "\n",
        "In this section, we'll design the State class to encapsulate our workflow data and initialize the ChatOpenAI model, laying the foundation for our text processing pipeline."
      ],
      "metadata": {
        "id": "wwTkrnDBWNwX"
      }
    },
    {
      "cell_type": "code",
      "source": [
        "class State(TypedDict):\n",
        "    text: str\n",
        "    classification: str\n",
        "    entities: List[str]\n",
        "    summary: str\n",
        "\n",
        "llm = ChatOpenAI(model=\"gpt-4o-mini\", temperature=0)"
      ],
      "metadata": {
        "id": "6if5hXZBOrpI"
      },
      "execution_count": 12,
      "outputs": []
    },
    {
      "cell_type": "markdown",
      "source": [
        "#Define Node Functions\n",
        "\n",
        "These functions define the operations performed at each node of our graph: classification, entity extraction, and summarization."
      ],
      "metadata": {
        "id": "_bFbyawdWVPJ"
      }
    },
    {
      "cell_type": "code",
      "source": [
        "def classification_node(state: State):\n",
        "    ''' Classify the text into one of the categories: News, Blog, Research, or Other '''\n",
        "    prompt = PromptTemplate(\n",
        "        input_variables=[\"text\"],\n",
        "        template=\"Classify the following text into one of the categories: News, Blog, Research, or Other.\\n\\nText:{text}\\n\\nCategory:\"\n",
        "    )\n",
        "    message = HumanMessage(content=prompt.format(text=state[\"text\"]))\n",
        "    classification = llm.invoke([message]).content.strip()\n",
        "    return {\"classification\": classification}\n",
        "\n",
        "\n",
        "def entity_extraction_node(state: State):\n",
        "    ''' Extract all the entities (Person, Organization, Location) from the text '''\n",
        "    prompt = PromptTemplate(\n",
        "        input_variables=[\"text\"],\n",
        "        template=\"Extract all the entities (Person, Organization, Location) from the following text. Provide the result as a comma-separated list.\\n\\nText:{text}\\n\\nEntities:\"\n",
        "    )\n",
        "    message = HumanMessage(content=prompt.format(text=state[\"text\"]))\n",
        "    entities = llm.invoke([message]).content.strip().split(\", \")\n",
        "    return {\"entities\": entities}\n",
        "\n",
        "\n",
        "def summarization_node(state: State):\n",
        "    ''' Summarize the text in one short sentence '''\n",
        "    prompt = PromptTemplate(\n",
        "        input_variables=[\"text\"],\n",
        "        template=\"Summarize the following text in one short sentence.\\n\\nText:{text}\\n\\nSummary:\"\n",
        "    )\n",
        "    message = HumanMessage(content=prompt.format(text=state[\"text\"]))\n",
        "    summary = llm.invoke([message]).content.strip()\n",
        "    return {\"summary\": summary}"
      ],
      "metadata": {
        "id": "P9dUjXI7Ormz"
      },
      "execution_count": 13,
      "outputs": []
    },
    {
      "cell_type": "markdown",
      "source": [
        "\n",
        "\n",
        "\n",
        "# Constructing the Workflow\n",
        "\n",
        "In this step, we'll create the necessary tools and construct the StateGraph workflow, integrating the components to form a cohesive text processing pipeline.\n"
      ],
      "metadata": {
        "id": "8-JGPJybWtaz"
      }
    },
    {
      "cell_type": "code",
      "source": [
        "workflow = StateGraph(State)\n",
        "\n",
        "\n",
        "workflow.add_node(\"classification_node\", classification_node)\n",
        "workflow.add_node(\"entity_extraction\", entity_extraction_node)\n",
        "workflow.add_node(\"summarization\", summarization_node)\n",
        "\n",
        "\n",
        "workflow.set_entry_point(\"classification_node\") # Set the entry point of the graph\n",
        "workflow.add_edge(\"classification_node\", \"entity_extraction\")\n",
        "workflow.add_edge(\"entity_extraction\", \"summarization\")\n",
        "workflow.add_edge(\"summarization\", END)\n",
        "\n",
        "\n",
        "app = workflow.compile()"
      ],
      "metadata": {
        "id": "JSydsN3bPUap"
      },
      "execution_count": 14,
      "outputs": []
    },
    {
      "cell_type": "markdown",
      "source": [
        "#Lets Visuaize the workflow"
      ],
      "metadata": {
        "id": "1rtXk6MAW1-H"
      }
    },
    {
      "cell_type": "code",
      "source": [
        "display(\n",
        "    Image(\n",
        "        app.get_graph().draw_mermaid_png(\n",
        "            draw_method=MermaidDrawMethod.API,\n",
        "        )\n",
        "    )\n",
        ")"
      ],
      "metadata": {
        "colab": {
          "base_uri": "https://localhost:8080/",
          "height": 449
        },
        "id": "sBsJ35HsPam3",
        "outputId": "9b0c89b8-b479-4ec5-87dd-780185ceb553"
      },
      "execution_count": 15,
      "outputs": [
        {
          "output_type": "display_data",
          "data": {
            "image/png": "[encoded data removed]",
            "text/plain": [
              "<IPython.core.display.Image object>"
            ]
          },
          "metadata": {}
        }
      ]
    },
    {
      "cell_type": "code",
      "source": [
        "sample_text = \"\"\"\n",
        "\n",
        "During a live-streamed event, Musk introduced the advanced AI, showcasing its abilities in reasoning, in-depth research, and handling creative tasks. With Grok 3's unmatched performance in science, coding, and math, it has even outpaced industry giants like Google’s Gemini 2 Pro and OpenAI’s GPT-4.\n",
        "The launch event highlighted the groundbreaking capabilities of Grok 3. Musk emphasised the model’s “maximally truth-seeking” nature, explaining that its goal is to provide deep, empathetic understanding even if it challenges politically correct views.\n",
        "Subscription tiers and early access\n",
        "xAI is rolling out Grok 3 to Premium+ subscribers on X, with users encouraged to update their app to access the new features. For those seeking earlier access and the most advanced capabilities, xAI has introduced a new subscription tier, Super Grok, available on both the Grok app and the newly launched website, grok.com.\n",
        "Grok 3’s power and DeepSearch tool\n",
        "Grok 3’s most significant upgrade lies in its computational power, boasting over 10 times the capacity of Grok 2. Built with a massive 2,00,000 GPU cluster housed in Memphis, Tennessee, the supercomputer, Colossus, was developed in under eight months. Musk revealed that Grok 3's pre-training completed in January, with daily improvements being rolled out, ensuring continuous development.\n",
        "\n",
        "\"\"\"\n",
        "\n",
        "state_input = {\"text\": sample_text}\n",
        "result = app.invoke(state_input)\n",
        "\n",
        "print(\"Classification:\", result[\"classification\"])\n",
        "print(\"\\nEntities:\", result[\"entities\"])\n",
        "print(\"\\nSummary:\", result[\"summary\"])"
      ],
      "metadata": {
        "colab": {
          "base_uri": "https://localhost:8080/"
        },
        "id": "zt9cf3ThPnl_",
        "outputId": "06f8bdd2-4354-49c7-d716-ba1ef200533e"
      },
      "execution_count": 16,
      "outputs": [
        {
          "output_type": "stream",
          "name": "stdout",
          "text": [
            "Classification: News\n",
            "\n",
            "Entities: ['Musk', 'Google', 'OpenAI', 'xAI', 'Memphis', 'Tennessee', 'Colossus']\n",
            "\n",
            "Summary: Musk unveiled Grok 3, an advanced AI with superior capabilities in reasoning and creativity, surpassing competitors like Google and OpenAI, and introduced new subscription tiers for access.\n"
          ]
        }
      ]
    },
    {
      "cell_type": "markdown",
      "source": [
        "So, we succesfully made a basic processing pipeline, using Langgraph"
      ],
      "metadata": {
        "id": "S8VQU5tRXAAr"
      }
    }
  ]
}